{
 "cells": [
  {
   "cell_type": "code",
   "execution_count": 1,
   "metadata": {},
   "outputs": [],
   "source": [
    "import os\n",
    "os.chdir('/home')\n",
    "\n",
    "from lib import labels"
   ]
  },
  {
   "cell_type": "markdown",
   "metadata": {},
   "source": [
    "FINDING: 0.4% of labels have no associated text\n",
    "\n",
    "maybe we can infer these later by using the graph and the vector space?"
   ]
  },
  {
   "cell_type": "code",
   "execution_count": 2,
   "metadata": {},
   "outputs": [
    {
     "name": "stdout",
     "output_type": "stream",
     "text": [
      "Starting load_embedding...\n",
      "load_embedding took 48.49136233329773 seconds\n",
      "Starting embedding_matrix...\n",
      "embedding_matrix took 8.246781587600708 seconds\n",
      "Starting adjacency_matrix...\n",
      "adjacency_matrix took 28.270060539245605 seconds\n",
      "(3862, 300) (3862, 3862)\n"
     ]
    }
   ],
   "source": [
    "word_to_glove = labels.load_embedding()\n",
    "X = labels.embedding_matrix('train', -1, word_to_glove)\n",
    "A = labels.adjacency_matrix('train', -1, identity=True)\n",
    "print(X.shape, A.shape)"
   ]
  },
  {
   "cell_type": "code",
   "execution_count": 3,
   "metadata": {},
   "outputs": [],
   "source": [
    "# classify some labels by clustering the glove space\n",
    "import numpy as np\n",
    "from sklearn.cluster import KMeans\n",
    "from sklearn.metrics import silhouette_score\n",
    "from sklearn.decomposition import PCA\n",
    "from sklearn.manifold import TSNE\n",
    "import matplotlib.pyplot as plt\n",
    "%matplotlib inline\n",
    "\n",
    "\n",
    "'''To find the best K\n",
    "data = []\n",
    "for n_clusters in [5, 10, 20, 40, 60, 80, 100]:\n",
    "    clusterer = KMeans(n_clusters)\n",
    "    clusterer.fit(X)\n",
    "    clusters = clusterer.predict(X)\n",
    "    data.append([n_clusters, silhouette_score(X, clusters)])\n",
    "\n",
    "data = np.array(data)\n",
    "plt.plot(data[:,0], data[:,1], 'o-')\n",
    "'''\n",
    "\n",
    "n_clusters = 20 # the elbow point of the cluster learning curve\n",
    "clusterer = KMeans(n_clusters)\n",
    "clusterer.fit(X)\n",
    "clusters = clusterer.predict(X)\n",
    "sample_indices = np.array([np.random.choice(np.where(clusters==i)[0])\n",
    "                            for i in range(n_clusters)])\n",
    "onehot_clusters = np.zeros((X.shape[0], n_clusters))\n",
    "onehot_clusters[sample_indices, np.arange(n_clusters)] = 1"
   ]
  },
  {
   "cell_type": "markdown",
   "metadata": {},
   "source": [
    "This clustering is bad. It clusters according to the features; should use clustering according to the graph architecture, such as modularity-based clustering."
   ]
  },
  {
   "cell_type": "code",
   "execution_count": 4,
   "metadata": {},
   "outputs": [],
   "source": [
    "def normalize_adjacency(A):\n",
    "    D = A.sum(axis=1)\n",
    "    D_pow = np.power(D, -1/2) * np.eye(A.shape[0])\n",
    "    return np.linalg.multi_dot([D_pow, A, D_pow])\n",
    "A_norm = normalize_adjacency(A)"
   ]
  },
  {
   "cell_type": "code",
   "execution_count": 5,
   "metadata": {},
   "outputs": [],
   "source": [
    "from tensorflow.keras.layers import Input, Dense, Activation, Lambda\n",
    "from tensorflow.keras.models import Model\n",
    "from tensorflow.keras import backend as K\n",
    "\n",
    "def GraphConvLayer(A_norm, size):\n",
    "    def graphconv(in_layer, activation):\n",
    "        out = Dense(size, batch_size=A_norm.shape[0])(in_layer)\n",
    "        out = Lambda(lambda X: K.dot(A_norm, X))(out)\n",
    "        out = Activation(activation)(out)\n",
    "        return out\n",
    "    return graphconv\n",
    "\n",
    "def GCN(n_nodes, layer_sizes, n_classes):\n",
    "    X_input = Input((300,))\n",
    "    Anorm_input = Input((n_nodes,))\n",
    "    latent = GraphConvLayer(Anorm_input, layer_sizes[0])(X_input, activation='relu')\n",
    "    for size in layer_sizes[1:]:\n",
    "        latent = GraphConvLayer(Anorm_input, size)(latent, activation='relu')\n",
    "    out = GraphConvLayer(Anorm_input, n_classes)(latent, activation='softmax')\n",
    "    \n",
    "    model = Model([X_input, Anorm_input], out)\n",
    "    latent_model = Model([X_input, Anorm_input], latent)\n",
    "    model.compile(loss='categorical_crossentropy', optimizer='adam')\n",
    "    latent_model.compile(loss='categorical_crossentropy', optimizer='adam')\n",
    "    return model, latent_model"
   ]
  },
  {
   "cell_type": "code",
   "execution_count": 6,
   "metadata": {},
   "outputs": [],
   "source": [
    "n_nodes = A.shape[0]\n",
    "model, latent_model = GCN(n_nodes, [128, 64, 32], n_clusters)"
   ]
  },
  {
   "cell_type": "code",
   "execution_count": 7,
   "metadata": {},
   "outputs": [
    {
     "name": "stdout",
     "output_type": "stream",
     "text": [
      "Epoch 1/1\n",
      "3862/3862 [==============================] - 1s 187us/step - loss: 0.0155\n"
     ]
    },
    {
     "data": {
      "text/plain": [
       "<tensorflow.python.keras.callbacks.History at 0x7fbb690f6f98>"
      ]
     },
     "execution_count": 7,
     "metadata": {},
     "output_type": "execute_result"
    }
   ],
   "source": [
    "model.fit([X, A_norm], onehot_clusters, batch_size=A.shape[0], epochs=1)"
   ]
  },
  {
   "cell_type": "code",
   "execution_count": 9,
   "metadata": {},
   "outputs": [
    {
     "data": {
      "text/plain": [
       "(3862, 32)"
      ]
     },
     "execution_count": 9,
     "metadata": {},
     "output_type": "execute_result"
    }
   ],
   "source": [
    "latent_model.predict([X, A_norm], batch_size=A_norm.shape[0]).shape"
   ]
  }
 ],
 "metadata": {
  "kernelspec": {
   "display_name": "Python 3",
   "language": "python",
   "name": "python3"
  },
  "language_info": {
   "codemirror_mode": {
    "name": "ipython",
    "version": 3
   },
   "file_extension": ".py",
   "mimetype": "text/x-python",
   "name": "python",
   "nbconvert_exporter": "python",
   "pygments_lexer": "ipython3",
   "version": "3.6.5"
  }
 },
 "nbformat": 4,
 "nbformat_minor": 2
}
