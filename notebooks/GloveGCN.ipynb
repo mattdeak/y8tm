{
 "cells": [
  {
   "cell_type": "code",
   "execution_count": 1,
   "metadata": {},
   "outputs": [],
   "source": [
    "import os\n",
    "os.chdir('/home')\n",
    "\n",
    "from lib import labels"
   ]
  },
  {
   "cell_type": "markdown",
   "metadata": {},
   "source": [
    "FINDING: 0.4% of labels have no associated text\n",
    "\n",
    "maybe we can infer these later by using the graph and the vector space?"
   ]
  },
  {
   "cell_type": "code",
   "execution_count": 2,
   "metadata": {},
   "outputs": [
    {
     "name": "stdout",
     "output_type": "stream",
     "text": [
      "Starting load_embedding...\n",
      "load_embedding took 47.1388475894928 seconds\n",
      "(41, 300) (31, 31)\n"
     ]
    }
   ],
   "source": [
    "word_to_glove = labels.load_embedding()\n",
    "X = labels.embedding_matrix('train', 20, word_to_glove)\n",
    "A = labels.adjacency_matrix('train', 20)\n",
    "print(X.shape, A.shape)"
   ]
  },
  {
   "cell_type": "code",
   "execution_count": null,
   "metadata": {},
   "outputs": [],
   "source": []
  }
 ],
 "metadata": {
  "kernelspec": {
   "display_name": "Python 3",
   "language": "python",
   "name": "python3"
  },
  "language_info": {
   "codemirror_mode": {
    "name": "ipython",
    "version": 3
   },
   "file_extension": ".py",
   "mimetype": "text/x-python",
   "name": "python",
   "nbconvert_exporter": "python",
   "pygments_lexer": "ipython3",
   "version": "3.6.5"
  }
 },
 "nbformat": 4,
 "nbformat_minor": 2
}
