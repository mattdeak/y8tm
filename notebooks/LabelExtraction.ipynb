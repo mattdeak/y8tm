{
 "cells": [
  {
   "cell_type": "code",
   "execution_count": 1,
   "metadata": {},
   "outputs": [],
   "source": [
    "import pandas as pd\n",
    "import numpy as np\n",
    "import os\n",
    "import matplotlib.pyplot as plt\n",
    "import tensorflow as tf\n",
    "%matplotlib inline\n",
    "\n",
    "os.chdir('/home') # Necessary to use lib files\n",
    "from lib.labels import extract_labels"
   ]
  },
  {
   "cell_type": "code",
   "execution_count": 4,
   "metadata": {},
   "outputs": [],
   "source": [
    "data_dir = \"/home/data/full/\""
   ]
  },
  {
   "cell_type": "markdown",
   "metadata": {},
   "source": [
    "## Extracting the Labels\n",
    "Just collect the file names in lists and provide some output files to write into."
   ]
  },
  {
   "cell_type": "code",
   "execution_count": 5,
   "metadata": {},
   "outputs": [],
   "source": [
    "video_dir = data_dir + '/video'\n",
    "\n",
    "# Get the directory name of all the video files\n",
    "train_videos = [video_dir + '/' + record for record in os.listdir(video_dir) \\\n",
    "                   if record[-8:] == 'tfrecord' and record[:5] == 'train']\n",
    "test_videos = [video_dir + '/' + record for record in os.listdir(video_dir) \\\n",
    "                   if record[-8:] == 'tfrecord' and record[:4] == 'test']\n",
    "validate_videos = [video_dir + '/' + record for record in os.listdir(video_dir) \\\n",
    "                   if record[-8:] == 'tfrecord' and record[:5] == 'valid']\n",
    "\n",
    "train_outfile = 'data/labels/train_labels.txt'\n",
    "test_outfile = 'data/labels/test_labels.txt'\n",
    "validate_outfile = 'data/labels/validate_labels.txt'"
   ]
  },
  {
   "cell_type": "markdown",
   "metadata": {},
   "source": [
    "Then just run the `extract_labels` function."
   ]
  },
  {
   "cell_type": "code",
   "execution_count": 6,
   "metadata": {},
   "outputs": [],
   "source": [
    "extract_labels(train_videos, outfile=train_outfile)\n",
    "extract_labels(test_videos, outfile=test_outfile)\n",
    "extract_labels(validate_videos, outfile=validate_outfile)"
   ]
  }
 ],
 "metadata": {
  "kernelspec": {
   "display_name": "Python 3",
   "language": "python",
   "name": "python3"
  },
  "language_info": {
   "codemirror_mode": {
    "name": "ipython",
    "version": 3
   },
   "file_extension": ".py",
   "mimetype": "text/x-python",
   "name": "python",
   "nbconvert_exporter": "python",
   "pygments_lexer": "ipython3",
   "version": "3.6.5"
  }
 },
 "nbformat": 4,
 "nbformat_minor": 2
}
