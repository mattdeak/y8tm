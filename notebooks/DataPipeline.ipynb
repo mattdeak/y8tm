{
 "cells": [
  {
   "cell_type": "code",
   "execution_count": 25,
   "metadata": {},
   "outputs": [
    {
     "name": "stdout",
     "output_type": "stream",
     "text": [
      "{'audio': array([[[ 76.,  46., 175., ..., 186., 255., 118.],\n",
      "        [ 34.,  45., 131., ..., 110.,   0., 138.],\n",
      "        [ 26.,  76., 134., ..., 124.,  34.,  63.],\n",
      "        ...,\n",
      "        [ 85.,  55., 170., ..., 193.,  45., 255.],\n",
      "        [ 58.,  87., 146., ..., 167., 195., 218.],\n",
      "        [ 98.,  60., 192., ..., 160., 255., 169.]]], dtype=float32), 'rgb': array([[[130., 213., 111., ..., 157., 188., 210.],\n",
      "        [124., 203., 100., ..., 146., 113., 167.],\n",
      "        [ 89., 210.,  91., ..., 154., 174., 183.],\n",
      "        ...,\n",
      "        [ 48., 206.,  84., ..., 167., 168., 218.],\n",
      "        [ 36., 203.,  88., ..., 170., 138., 255.],\n",
      "        [ 15., 205.,  87., ..., 174., 157., 210.]]], dtype=float32)}\n"
     ]
    }
   ],
   "source": [
    "import itertools\n",
    "import numpy as np\n",
    "import pandas as pd\n",
    "import tensorflow as tf\n",
    "\n",
    "class FrameConverter:\n",
    "    def __init__(self, X_transforms=[], y_transforms=[], repeat_count=1, n_parallel=1):\n",
    "        self.filename_base = '/home/data/full/frame/{}{}.tfrecord'\n",
    "        class_lookup_df = pd.read_csv('/home/data/label_names_2018.csv')\n",
    "        self.index_to_label = dict(enumerate(class_lookup_df.label_id.values))\n",
    "        self.label_to_index = {v: k for k,v in self.index_to_label.items()}\n",
    "        self.repeat_count = repeat_count\n",
    "        self.keys_to_features = {\n",
    "            'rgb': tf.FixedLenSequenceFeature([], tf.string, allow_missing=True),\n",
    "            'audio': tf.FixedLenSequenceFeature([], tf.string, allow_missing=True),\n",
    "        }\n",
    "        self.key_to_label = {\n",
    "            'labels': tf.VarLenFeature(tf.int64)\n",
    "        }\n",
    "\n",
    "    def get_data_from_record(self, filename):\n",
    "        y, X = tf.parse_single_sequence_example(filename,\n",
    "                                                  self.key_to_label,\n",
    "                                                  self.keys_to_features)\n",
    "        # X is still bytes; convert to float\n",
    "        X['audio'] = tf.cast(tf.decode_raw(X['audio'], tf.uint8), tf.float32)\n",
    "        X['rgb'] = tf.cast(tf.decode_raw(X['rgb'], tf.uint8), tf.float32)\n",
    "        y = tf.sparse_to_dense(y['labels'].values, [3862], 1)\n",
    "        \n",
    "        # now apply custom transformations\n",
    "        for transform in X_transforms:\n",
    "            X = transform(X)\n",
    "        for transform in y_transforms:\n",
    "            y = transform(y)\n",
    "        return X, y\n",
    "    \n",
    "    def __call__(self, subset, record_indices):\n",
    "        filenames = [self.filename_base.format(subset, index) for index in record_indices]\n",
    "        \n",
    "        dataset = tf.data.TFRecordDataset(filenames)\n",
    "        dataset = dataset.map(self.get_data_from_record,\n",
    "                              num_parallel_calls=n_parallel)\n",
    "        dataset = dataset.repeat(self.repeat_count)\n",
    "        dataset = dataset.shuffle(buffer_size=256)\n",
    "        dataset = dataset.batch(1)\n",
    "        dataset = dataset.prefetch(1)\n",
    "        iterator = dataset.make_one_shot_iterator()\n",
    "        return iterator\n",
    "    \n",
    "frame_converter = FrameConverter()\n",
    "iterator = frame_converter('train', [2500])\n",
    "sess = tf.Session()\n",
    "next_sample = iterator.get_next()\n",
    "sample = sess.run(next_sample)\n",
    "print(sample[0])"
   ]
  }
 ],
 "metadata": {
  "kernelspec": {
   "display_name": "Python 3",
   "language": "python",
   "name": "python3"
  },
  "language_info": {
   "codemirror_mode": {
    "name": "ipython",
    "version": 3
   },
   "file_extension": ".py",
   "mimetype": "text/x-python",
   "name": "python",
   "nbconvert_exporter": "python",
   "pygments_lexer": "ipython3",
   "version": "3.6.5"
  }
 },
 "nbformat": 4,
 "nbformat_minor": 2
}
