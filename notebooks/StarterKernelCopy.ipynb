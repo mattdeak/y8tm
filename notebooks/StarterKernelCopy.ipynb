{
 "cells": [
  {
   "cell_type": "code",
   "execution_count": 1,
   "metadata": {},
   "outputs": [
    {
     "name": "stdout",
     "output_type": "stream",
     "text": [
      "['.local', 'video', 'label_names_2018.csv', 'test', 'GCP-Credits.rtf', 'frame', '__MACOSX', 'sample_submission.csv', 'vocabulary.csv', '.~lock.vocabulary.csv#', 'get_data.sh']\n"
     ]
    }
   ],
   "source": [
    "# This Python 3 environment comes with many helpful analytics libraries installed\n",
    "# It is defined by the kaggle/python docker image: https://github.com/kaggle/docker-python\n",
    "# For example, here's several helpful packages to load in \n",
    "\n",
    "import numpy as np # linear algebra\n",
    "import pandas as pd # data processing, CSV file I/O (e.g. pd.read_csv)\n",
    "\n",
    "# Input data files are available in the \"../input/\" directory.\n",
    "# For example, running this (by clicking run or pressing Shift+Enter) will list the files in the input directory\n",
    "\n",
    "import os\n",
    "print(os.listdir(\"../data\"))\n",
    "\n",
    "# Any results you write to the current directory are saved as output.\n"
   ]
  },
  {
   "cell_type": "code",
   "execution_count": 2,
   "metadata": {},
   "outputs": [
    {
     "name": "stdout",
     "output_type": "stream",
     "text": [
      "['train2072.tfrecord', 'train1745.tfrecord', 'train1864.tfrecord', 'train0276.tfrecord', 'test0100.tfrecord', 'validate2394.tfrecord', 'validate2094.tfrecord', 'test0285.tfrecord', 'test2226.tfrecord', 'validate3182.tfrecord', 'test1114.tfrecord', 'train3519.tfrecord', 'validate1937.tfrecord', 'train0503.tfrecord', 'train0580.tfrecord', 'test2057.tfrecord', 'validate1116.tfrecord', 'train3551.tfrecord', 'train1110.tfrecord', 'test3212.tfrecord', 'validate2517.tfrecord', 'validate2525.tfrecord', 'test2501.tfrecord', 'validate1219.tfrecord', 'validate0052.tfrecord', 'train0667.tfrecord', 'train3560.tfrecord', 'test3392.tfrecord', 'test0397.tfrecord', 'validate1704.tfrecord', 'validate1932.tfrecord', 'test2108.tfrecord', 'validate0797.tfrecord', 'test2560.tfrecord', 'validate0965.tfrecord', 'train3477.tfrecord', 'test0162.tfrecord', 'train1087.tfrecord', 'validate0267.tfrecord', '2_frame_train_download_plan.json', 'validate3731.tfrecord', 'train3220.tfrecord', 'validate3043.tfrecord', 'train3607.tfrecord', 'test2022.tfrecord', 'train0093.tfrecord', 'validate3115.tfrecord', 'test0152.tfrecord', 'test2246.tfrecord', 'train0434.tfrecord', 'test1616.tfrecord', 'validate2501.tfrecord', 'test0274.tfrecord', '2_frame_validate_download_plan.json', 'train2791.tfrecord', 'validate0876.tfrecord', 'test3076.tfrecord', 'train3622.tfrecord', 'test1563.tfrecord', 'test3462.tfrecord', 'validate0676.tfrecord', 'test0858.tfrecord', 'train2722.tfrecord', 'validate0638.tfrecord', '2_frame_test_download_plan.json', 'train2161.tfrecord', 'test2636.tfrecord', 'test3508.tfrecord', 'train0352.tfrecord', 'test0473.tfrecord', 'validate3432.tfrecord', 'train0830.tfrecord', 'validate1210.tfrecord', 'train3702.tfrecord', 'validate1831.tfrecord', 'validate0455.tfrecord', 'train2896.tfrecord', 'validate3343.tfrecord', 'validate0842.tfrecord', 'validate0955.tfrecord', 'test2901.tfrecord', 'validate0523.tfrecord', 'test1553.tfrecord', 'train0477.tfrecord', 'validate1769.tfrecord', 'test3134.tfrecord', 'validate1644.tfrecord', 'train0111.tfrecord', 'train0979.tfrecord', 'train2160.tfrecord', 'test3062.tfrecord', 'test3213.tfrecord', 'validate3489.tfrecord', 'test1630.tfrecord', 'test3456.tfrecord', 'train2950.tfrecord', 'test1818.tfrecord', 'train1646.tfrecord', 'train0208.tfrecord', 'test2069.tfrecord', 'train2154.tfrecord', 'test1306.tfrecord', 'test0474.tfrecord', 'test0735.tfrecord', 'train2495.tfrecord', 'train3749.tfrecord', 'train3529.tfrecord', 'test2855.tfrecord', 'test1956.tfrecord', 'train1805.tfrecord', 'train2902.tfrecord', 'validate0701.tfrecord', 'train3012.tfrecord', 'train0274.tfrecord', 'train0637.tfrecord', 'validate2164.tfrecord', 'validate0780.tfrecord', 'test3701.tfrecord', 'validate0259.tfrecord', 'validate1395.tfrecord', 'validate0024.tfrecord', 'validate1169.tfrecord', 'test3657.tfrecord']\n",
      "['train2072.tfrecord', 'train1745.tfrecord', 'train1864.tfrecord', 'train0276.tfrecord', 'test0100.tfrecord', 'validate2394.tfrecord', 'validate2094.tfrecord', 'test0285.tfrecord', 'test2226.tfrecord', 'validate3182.tfrecord', '2_video_validate_download_plan.json', 'test1114.tfrecord', 'train3519.tfrecord', 'validate1937.tfrecord', 'train0503.tfrecord', 'train0580.tfrecord', 'test2057.tfrecord', 'validate1116.tfrecord', 'train3551.tfrecord', 'train1110.tfrecord', 'test3212.tfrecord', 'validate2517.tfrecord', 'validate2525.tfrecord', 'test2501.tfrecord', 'validate1219.tfrecord', 'validate0052.tfrecord', 'train0667.tfrecord', 'train3560.tfrecord', 'test3392.tfrecord', 'test0397.tfrecord', 'validate1704.tfrecord', 'validate1932.tfrecord', 'test2108.tfrecord', 'validate0797.tfrecord', 'test2560.tfrecord', 'validate0965.tfrecord', 'train3477.tfrecord', 'test0162.tfrecord', 'train1087.tfrecord', 'validate0267.tfrecord', 'validate3731.tfrecord', 'train3220.tfrecord', 'validate3043.tfrecord', 'train3607.tfrecord', 'test2022.tfrecord', 'train0093.tfrecord', 'validate3115.tfrecord', 'test0152.tfrecord', 'test2246.tfrecord', 'train0434.tfrecord', 'test1616.tfrecord', 'validate2501.tfrecord', '2_video_test_download_plan.json', 'test0274.tfrecord', 'train2791.tfrecord', 'validate0876.tfrecord', 'test3076.tfrecord', 'train3622.tfrecord', 'test1563.tfrecord', 'test3462.tfrecord', 'validate0676.tfrecord', 'test0858.tfrecord', 'train2722.tfrecord', 'validate0638.tfrecord', 'train2161.tfrecord', 'test2636.tfrecord', 'test3508.tfrecord', 'train0352.tfrecord', 'test0473.tfrecord', 'validate3432.tfrecord', 'train0830.tfrecord', 'validate1210.tfrecord', 'train3702.tfrecord', 'validate1831.tfrecord', 'validate0455.tfrecord', 'train2896.tfrecord', 'validate3343.tfrecord', 'validate0842.tfrecord', 'validate0955.tfrecord', 'test2901.tfrecord', 'validate0523.tfrecord', 'test1553.tfrecord', 'train0477.tfrecord', 'validate1769.tfrecord', 'test3134.tfrecord', 'validate1644.tfrecord', 'train0111.tfrecord', 'train0979.tfrecord', 'train2160.tfrecord', 'test3062.tfrecord', 'test3213.tfrecord', 'validate3489.tfrecord', 'test1630.tfrecord', 'test3456.tfrecord', 'train2950.tfrecord', 'test1818.tfrecord', 'train1646.tfrecord', 'train0208.tfrecord', 'test2069.tfrecord', 'train2154.tfrecord', 'test1306.tfrecord', 'test0474.tfrecord', 'test0735.tfrecord', 'train2495.tfrecord', 'train3749.tfrecord', 'train3529.tfrecord', 'test2855.tfrecord', 'test1956.tfrecord', 'train1805.tfrecord', 'train2902.tfrecord', 'validate0701.tfrecord', 'train3012.tfrecord', 'train0274.tfrecord', 'train0637.tfrecord', 'validate2164.tfrecord', 'validate0780.tfrecord', 'test3701.tfrecord', '2_video_train_download_plan.json', 'validate0259.tfrecord', 'validate1395.tfrecord', 'validate0024.tfrecord', 'validate1169.tfrecord', 'test3657.tfrecord']\n"
     ]
    }
   ],
   "source": [
    "print(os.listdir(\"../data/frame\"))\n",
    "print(os.listdir(\"../data/video\"))"
   ]
  },
  {
   "cell_type": "code",
   "execution_count": 7,
   "metadata": {},
   "outputs": [],
   "source": [
    "#Loading libraries & datasets\n",
    "import tensorflow as tf\n",
    "import numpy as np\n",
    "from IPython.display import YouTubeVideo\n",
    "\n",
    "video_lvl_record = \"../data/video/train2072.tfrecord\"\n",
    "frame_lvl_record = \"../data/frame/train2072.tfrecord\""
   ]
  },
  {
   "cell_type": "code",
   "execution_count": 8,
   "metadata": {},
   "outputs": [],
   "source": [
    "vid_ids = []\n",
    "labels = []\n",
    "mean_rgb = []\n",
    "mean_audio = []\n",
    "\n",
    "for example in tf.python_io.tf_record_iterator(video_lvl_record):\n",
    "    tf_example = tf.train.Example.FromString(example)\n",
    "\n",
    "    vid_ids.append(tf_example.features.feature['id'].bytes_list.value[0].decode(encoding='UTF-8'))\n",
    "    labels.append(tf_example.features.feature['labels'].int64_list.value)\n",
    "    mean_rgb.append(tf_example.features.feature['mean_rgb'].float_list.value)\n",
    "    mean_audio.append(tf_example.features.feature['mean_audio'].float_list.value)"
   ]
  },
  {
   "cell_type": "code",
   "execution_count": 9,
   "metadata": {},
   "outputs": [
    {
     "name": "stdout",
     "output_type": "stream",
     "text": [
      "Number of videos in this tfrecord:  977\n",
      "Picking a youtube video id: C8HA\n",
      "First 20 features of a youtube video ( C8HA ):\n",
      "[0.537328839302063, 0.09894975274801254, 1.6871850490570068, 0.1870020478963852, 0.0548713244497776, -0.3643704950809479, 0.11928962171077728, -0.2632986009120941, 0.8155510425567627, 0.8471850752830505, -0.8149848580360413, 0.5752896070480347, 0.3801000714302063, -0.7488411068916321, 0.07348570227622986, 0.2483876645565033, -1.0287888050079346, -0.42565155029296875, 0.14945955574512482, -0.20442278683185577]\n"
     ]
    }
   ],
   "source": [
    "print('Number of videos in this tfrecord: ',len(mean_rgb))\n",
    "print('Picking a youtube video id:',vid_ids[13])\n",
    "print('First 20 features of a youtube video (',vid_ids[13],'):')\n",
    "print(mean_rgb[13][:20])"
   ]
  },
  {
   "cell_type": "code",
   "execution_count": 10,
   "metadata": {},
   "outputs": [
    {
     "data": {
      "image/jpeg": "[encoded data removed]",
      "text/html": [
       "\n",
       "        <iframe\n",
       "            width=\"400\"\n",
       "            height=\"300\"\n",
       "            src=\"https://www.youtube.com/embed/-QM5ooctj0w\"\n",
       "            frameborder=\"0\"\n",
       "            allowfullscreen\n",
       "        ></iframe>\n",
       "        "
      ],
      "text/plain": [
       "<IPython.lib.display.YouTubeVideo at 0x7fd3177eda90>"
      ]
     },
     "execution_count": 10,
     "metadata": {},
     "output_type": "execute_result"
    }
   ],
   "source": [
    "#With that video id, we can play the video\n",
    "YouTubeVideo('-QM5ooctj0w')"
   ]
  },
  {
   "cell_type": "code",
   "execution_count": 11,
   "metadata": {},
   "outputs": [],
   "source": [
    "\n",
    "\n",
    "# due to execution time, we're only going to read the first video\n",
    "\n",
    "feat_rgb = []\n",
    "feat_audio = []\n",
    "\n",
    "for example in tf.python_io.tf_record_iterator(frame_lvl_record):        \n",
    "    tf_seq_example = tf.train.SequenceExample.FromString(example)\n",
    "    n_frames = len(tf_seq_example.feature_lists.feature_list['audio'].feature)\n",
    "    sess = tf.InteractiveSession()\n",
    "    rgb_frame = []\n",
    "    audio_frame = []\n",
    "    # iterate through frames\n",
    "    for i in range(n_frames):\n",
    "        rgb_frame.append(tf.cast(tf.decode_raw(\n",
    "                tf_seq_example.feature_lists.feature_list['rgb'].feature[i].bytes_list.value[0],tf.uint8)\n",
    "                       ,tf.float32).eval())\n",
    "        audio_frame.append(tf.cast(tf.decode_raw(\n",
    "                tf_seq_example.feature_lists.feature_list['audio'].feature[i].bytes_list.value[0],tf.uint8)\n",
    "                       ,tf.float32).eval())\n",
    "        \n",
    "        \n",
    "    sess.close()\n",
    "    feat_rgb.append(rgb_frame)\n",
    "    feat_audio.append(audio_frame)\n",
    "    break\n",
    "\n"
   ]
  },
  {
   "cell_type": "code",
   "execution_count": 12,
   "metadata": {},
   "outputs": [
    {
     "name": "stdout",
     "output_type": "stream",
     "text": [
      "The first video has 149 frames\n"
     ]
    }
   ],
   "source": [
    "print('The first video has %d frames' %len(feat_rgb[0]))"
   ]
  },
  {
   "cell_type": "code",
   "execution_count": 13,
   "metadata": {},
   "outputs": [
    {
     "ename": "ModuleNotFoundError",
     "evalue": "No module named 'matplotlib'",
     "output_type": "error",
     "traceback": [
      "\u001b[0;31m---------------------------------------------------------------------------\u001b[0m",
      "\u001b[0;31mModuleNotFoundError\u001b[0m                       Traceback (most recent call last)",
      "\u001b[0;32m<ipython-input-13-776455854478>\u001b[0m in \u001b[0;36m<module>\u001b[0;34m()\u001b[0m\n\u001b[1;32m      1\u001b[0m \u001b[0;34m\u001b[0m\u001b[0m\n\u001b[1;32m      2\u001b[0m \u001b[0;34m\u001b[0m\u001b[0m\n\u001b[0;32m----> 3\u001b[0;31m \u001b[0;32mfrom\u001b[0m \u001b[0mmatplotlib\u001b[0m \u001b[0;32mimport\u001b[0m \u001b[0mpyplot\u001b[0m \u001b[0;32mas\u001b[0m \u001b[0mplt\u001b[0m\u001b[0;34m\u001b[0m\u001b[0m\n\u001b[0m\u001b[1;32m      4\u001b[0m \u001b[0mget_ipython\u001b[0m\u001b[0;34m(\u001b[0m\u001b[0;34m)\u001b[0m\u001b[0;34m.\u001b[0m\u001b[0mrun_line_magic\u001b[0m\u001b[0;34m(\u001b[0m\u001b[0;34m'matplotlib'\u001b[0m\u001b[0;34m,\u001b[0m \u001b[0;34m'inline'\u001b[0m\u001b[0;34m)\u001b[0m\u001b[0;34m\u001b[0m\u001b[0m\n\u001b[1;32m      5\u001b[0m \u001b[0;32mfrom\u001b[0m \u001b[0msklearn\u001b[0m\u001b[0;34m.\u001b[0m\u001b[0mmanifold\u001b[0m \u001b[0;32mimport\u001b[0m \u001b[0mTSNE\u001b[0m\u001b[0;34m\u001b[0m\u001b[0m\n",
      "\u001b[0;31mModuleNotFoundError\u001b[0m: No module named 'matplotlib'"
     ]
    }
   ],
   "source": [
    "from matplotlib import pyplot as plt\n",
    "%matplotlib inline\n",
    "from sklearn.manifold import TSNE\n",
    "import numpy as np"
   ]
  },
  {
   "cell_type": "code",
   "execution_count": 15,
   "metadata": {},
   "outputs": [
    {
     "data": {
      "text/plain": [
       "['Game',\n",
       " 'Vehicle',\n",
       " 'Concert',\n",
       " 'Video game',\n",
       " 'Car',\n",
       " 'Animation',\n",
       " 'Dance',\n",
       " 'Association football',\n",
       " 'Musician',\n",
       " 'Food']"
      ]
     },
     "execution_count": 15,
     "metadata": {},
     "output_type": "execute_result"
    }
   ],
   "source": [
    "\n",
    "\n",
    "n=10\n",
    "from collections import Counter\n",
    "label_mapping = pd.read_csv('../data/label_names_2018.csv',header=0,index_col=0,squeeze=True).T.to_dict()\n",
    "\n",
    "top_n = Counter([item for sublist in labels for item in sublist]).most_common(n)\n",
    "top_n_labels = [int(i[0]) for i in top_n]\n",
    "top_n_label_names = [label_mapping[x] for x in top_n_labels]\n",
    "top_n_label_names\n",
    "\n"
   ]
  },
  {
   "cell_type": "code",
   "execution_count": 16,
   "metadata": {},
   "outputs": [
    {
     "ename": "ModuleNotFoundError",
     "evalue": "No module named 'networkx'",
     "output_type": "error",
     "traceback": [
      "\u001b[0;31m---------------------------------------------------------------------------\u001b[0m",
      "\u001b[0;31mModuleNotFoundError\u001b[0m                       Traceback (most recent call last)",
      "\u001b[0;32m<ipython-input-16-de43093ff7f3>\u001b[0m in \u001b[0;36m<module>\u001b[0;34m()\u001b[0m\n\u001b[1;32m      1\u001b[0m \u001b[0;34m\u001b[0m\u001b[0m\n\u001b[1;32m      2\u001b[0m \u001b[0;34m\u001b[0m\u001b[0m\n\u001b[0;32m----> 3\u001b[0;31m \u001b[0;32mimport\u001b[0m \u001b[0mnetworkx\u001b[0m \u001b[0;32mas\u001b[0m \u001b[0mnx\u001b[0m\u001b[0;34m\u001b[0m\u001b[0m\n\u001b[0m\u001b[1;32m      4\u001b[0m \u001b[0;32mfrom\u001b[0m \u001b[0mitertools\u001b[0m \u001b[0;32mimport\u001b[0m \u001b[0mcombinations\u001b[0m\u001b[0;34m\u001b[0m\u001b[0m\n\u001b[1;32m      5\u001b[0m \u001b[0;34m\u001b[0m\u001b[0m\n",
      "\u001b[0;31mModuleNotFoundError\u001b[0m: No module named 'networkx'"
     ]
    }
   ],
   "source": [
    "import networkx as nx\n",
    "from itertools import combinations\n",
    "\n",
    "G=nx.Graph()\n",
    "\n",
    "G.clear()\n",
    "for list_of_nodes in labels:\n",
    "    filtered_nodes = set(list_of_nodes).intersection(set(top_n_labels))  \n",
    "    for node1,node2 in list(combinations(filtered_nodes,2)): \n",
    "        node1_name = label_mapping[node1]\n",
    "        node2_name = label_mapping[node2]\n",
    "        G.add_node(node1_name)\n",
    "        G.add_node(node2_name)\n",
    "        G.add_edge(node1_name, node2_name)\n",
    "\n",
    "nx.draw_networkx(G,font_size=\"10\")"
   ]
  },
  {
   "cell_type": "code",
   "execution_count": 17,
   "metadata": {},
   "outputs": [
    {
     "ename": "NameError",
     "evalue": "name 'plt' is not defined",
     "output_type": "error",
     "traceback": [
      "\u001b[0;31m---------------------------------------------------------------------------\u001b[0m",
      "\u001b[0;31mNameError\u001b[0m                                 Traceback (most recent call last)",
      "\u001b[0;32m<ipython-input-17-633d958e4cbd>\u001b[0m in \u001b[0;36m<module>\u001b[0;34m()\u001b[0m\n\u001b[0;32m----> 1\u001b[0;31m \u001b[0mcolors\u001b[0m \u001b[0;34m=\u001b[0m \u001b[0mplt\u001b[0m\u001b[0;34m.\u001b[0m\u001b[0mcm\u001b[0m\u001b[0;34m.\u001b[0m\u001b[0mrainbow\u001b[0m\u001b[0;34m(\u001b[0m\u001b[0mnp\u001b[0m\u001b[0;34m.\u001b[0m\u001b[0mlinspace\u001b[0m\u001b[0;34m(\u001b[0m\u001b[0;36m0\u001b[0m\u001b[0;34m,\u001b[0m \u001b[0;36m1\u001b[0m\u001b[0;34m,\u001b[0m \u001b[0mn\u001b[0m\u001b[0;34m)\u001b[0m\u001b[0;34m)\u001b[0m\u001b[0;34m\u001b[0m\u001b[0m\n\u001b[0m\u001b[1;32m      2\u001b[0m \u001b[0mmean_rgb_top_n\u001b[0m \u001b[0;34m=\u001b[0m \u001b[0;34m[\u001b[0m\u001b[0;34m]\u001b[0m\u001b[0;34m\u001b[0m\u001b[0m\n\u001b[1;32m      3\u001b[0m \u001b[0mlabels_for_tsne\u001b[0m \u001b[0;34m=\u001b[0m \u001b[0;34m[\u001b[0m\u001b[0;34m]\u001b[0m\u001b[0;34m\u001b[0m\u001b[0m\n\u001b[1;32m      4\u001b[0m \u001b[0;31m# filtering mean_rgb so it only contains top n labels\u001b[0m\u001b[0;34m\u001b[0m\u001b[0;34m\u001b[0m\u001b[0m\n\u001b[1;32m      5\u001b[0m \u001b[0;32mfor\u001b[0m \u001b[0midx\u001b[0m\u001b[0;34m,\u001b[0m \u001b[0mlist_of_nodes\u001b[0m \u001b[0;32min\u001b[0m \u001b[0menumerate\u001b[0m\u001b[0;34m(\u001b[0m\u001b[0mlabels\u001b[0m\u001b[0;34m)\u001b[0m\u001b[0;34m:\u001b[0m\u001b[0;34m\u001b[0m\u001b[0m\n",
      "\u001b[0;31mNameError\u001b[0m: name 'plt' is not defined"
     ]
    }
   ],
   "source": [
    "colors = plt.cm.rainbow(np.linspace(0, 1, n))\n",
    "mean_rgb_top_n = []\n",
    "labels_for_tsne = []\n",
    "# filtering mean_rgb so it only contains top n labels\n",
    "for idx, list_of_nodes in enumerate(labels):\n",
    "    for node in list_of_nodes:\n",
    "        if node in top_n_labels:\n",
    "            mean_rgb_top_n.append(mean_rgb[idx])\n",
    "            labels_for_tsne.append(node)\n",
    "\n",
    "\n",
    "X_embedded = TSNE(n_components=2, random_state=0).fit_transform(mean_rgb_top_n) \n",
    "\n",
    "\n",
    "fig = plt.figure()\n",
    "ax = fig.add_subplot(111)\n",
    "\n",
    "handles = []\n",
    "for indx, color in enumerate(colors):\n",
    "    this_label = top_n_labels[indx]\n",
    "    X_embedded_filtered = X_embedded[np.array([x==this_label for x in labels_for_tsne])]\n",
    "    handles.append(ax.scatter(X_embedded_filtered[:, 0], X_embedded_filtered[:, 1], c=color, marker=\"o\",edgecolor='none'))\n",
    "\n",
    "ax.legend(handles, top_n_labels)\n",
    "\n",
    "plt.show()"
   ]
  }
 ],
 "metadata": {
  "kernelspec": {
   "display_name": "Python 3",
   "language": "python",
   "name": "python3"
  },
  "language_info": {
   "codemirror_mode": {
    "name": "ipython",
    "version": 3
   },
   "file_extension": ".py",
   "mimetype": "text/x-python",
   "name": "python",
   "nbconvert_exporter": "python",
   "pygments_lexer": "ipython3",
   "version": "3.6.3"
  }
 },
 "nbformat": 4,
 "nbformat_minor": 2
}
